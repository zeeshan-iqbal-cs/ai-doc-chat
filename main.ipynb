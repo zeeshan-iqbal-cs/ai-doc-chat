{
 "cells": [
  {
   "cell_type": "code",
   "execution_count": 1,
   "metadata": {},
   "outputs": [],
   "source": [
    "from langchain_community.vectorstores import Qdrant\n",
    "from langchain_community.document_loaders import UnstructuredFileLoader\n",
    "from langchain_text_splitters import CharacterTextSplitter\n",
    "from langchain_community.embeddings import OllamaEmbeddings\n",
    "from langchain_community.chat_models import ChatOllama"
   ]
  },
  {
   "cell_type": "code",
   "execution_count": 2,
   "metadata": {},
   "outputs": [],
   "source": [
    "\n",
    "embeddings = OllamaEmbeddings(\n",
    "    model=\"nomic-embed-text\",\n",
    ")\n",
    "\n",
    "llm = ChatOllama(model=\"llama3\")"
   ]
  },
  {
   "cell_type": "code",
   "execution_count": 3,
   "metadata": {},
   "outputs": [],
   "source": [
    "doc_loader = UnstructuredFileLoader(\"/Users/zeeshan/Downloads/Get_Started_With_Smallpdf.pdf\")\n",
    "documents = doc_loader.load()\n",
    "\n",
    "text_splitter = CharacterTextSplitter(chunk_size=1000, chunk_overlap=0)\n",
    "docs = text_splitter.split_documents(documents)"
   ]
  },
  {
   "cell_type": "code",
   "execution_count": 4,
   "metadata": {},
   "outputs": [],
   "source": [
    "qdrant = Qdrant.from_documents(\n",
    "    docs,\n",
    "    embeddings,\n",
    "    path=\"/tmp/local_qdrant\",\n",
    "    collection_name=\"my_documents\",\n",
    ")\n",
    "\n",
    "retriever = qdrant.as_retriever(search_type=\"mmr\", k=10)"
   ]
  },
  {
   "cell_type": "code",
   "execution_count": 15,
   "metadata": {},
   "outputs": [],
   "source": [
    "query = \"Is this a medical data?\"\n",
    "\n",
    "found_docs = retriever.invoke(query)"
   ]
  },
  {
   "cell_type": "code",
   "execution_count": 16,
   "metadata": {},
   "outputs": [
    {
     "name": "stdout",
     "output_type": "stream",
     "text": [
      "Getting response...\n",
      "content=\"I'm happy to help! However, based on the provided context, it appears that the documents are actually related to a small business platform called Smallpdf, and not medical data.\\n\\nWould you like me to clarify or provide more information about the contents of these documents?\" response_metadata={'model': 'llama3', 'created_at': '2024-07-21T20:22:03.507461Z', 'message': {'role': 'assistant', 'content': ''}, 'done_reason': 'stop', 'done': True, 'total_duration': 4453630875, 'load_duration': 34109125, 'prompt_eval_count': 1004, 'prompt_eval_duration': 1254120000, 'eval_count': 54, 'eval_duration': 3164221000} id='run-0e4bf822-5f37-4011-8301-016ee55c4f05-0'\n"
     ]
    }
   ],
   "source": [
    "context = found_docs\n",
    "question = query\n",
    "\n",
    "print(\"Getting response...\")\n",
    "response = llm.invoke(f\"Use the following context: {context}, Question: {question} Your response should be in the chat format\")\n",
    "\n",
    "print(response)"
   ]
  }
 ],
 "metadata": {
  "kernelspec": {
   "display_name": ".env",
   "language": "python",
   "name": "python3"
  },
  "language_info": {
   "codemirror_mode": {
    "name": "ipython",
    "version": 3
   },
   "file_extension": ".py",
   "mimetype": "text/x-python",
   "name": "python",
   "nbconvert_exporter": "python",
   "pygments_lexer": "ipython3",
   "version": "3.12.4"
  }
 },
 "nbformat": 4,
 "nbformat_minor": 2
}
